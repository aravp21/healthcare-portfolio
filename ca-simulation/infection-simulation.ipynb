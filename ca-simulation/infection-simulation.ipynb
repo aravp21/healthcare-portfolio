{
  "nbformat": 4,
  "nbformat_minor": 0,
  "metadata": {
    "colab": {
      "provenance": []
    },
    "kernelspec": {
      "name": "python3",
      "display_name": "Python 3"
    },
    "language_info": {
      "name": "python"
    }
  },
  "cells": [
    {
      "cell_type": "code",
      "execution_count": 1,
      "metadata": {
        "id": "G9nEt96RSX1r"
      },
      "outputs": [],
      "source": [
        "import numpy as np\n",
        "import matplotlib.pyplot as plt\n",
        "import matplotlib.patches as mpatches\n",
        "import random"
      ]
    },
    {
      "cell_type": "code",
      "source": [
        "MODE = \"flu\"\n",
        "infect_len_dict = {\"flu\": (7, 0.38), \"cold\": (5, 0.5), \"covid\": (7, 0.63), \"stomach bug\": (6, 0.49)}"
      ],
      "metadata": {
        "id": "gJu7Qi6MVmVp"
      },
      "execution_count": 2,
      "outputs": []
    },
    {
      "cell_type": "code",
      "source": [
        "# @title\n",
        "class Sim:\n",
        "  def __init__(self, size=(10, 10), num_cells=5):\n",
        "    self.board = np.zeros(size, dtype=object)\n",
        "    self.cells = [Cell((0, 0), True)]\n",
        "    self.board[0, 0] = self.cells[0]\n",
        "    for i in range(num_cells-1):\n",
        "      pos = (np.random.randint(0, size[0]), np.random.randint(0, size[1]))\n",
        "      self.cells.append(Cell(pos))\n",
        "      self.board[pos[0], pos[1]] = self.cells[-1]\n",
        "\n",
        "    self.plot()\n",
        "    self.time = 0\n",
        "\n",
        "  def step(self):\n",
        "    for cell in self.cells:\n",
        "      self.move_cell(cell)\n",
        "      self.check_neighborhood(cell)\n",
        "\n",
        "    self.plot()\n",
        "    self.time += 1\n",
        "\n",
        "  def is_legal(self, new_pos, move=True):\n",
        "    if (new_pos[0] < 0 or new_pos[0] == self.board.shape[0]) or (new_pos[1] < 0 or new_pos[1] == self.board.shape[1]):\n",
        "      return False\n",
        "    elif move and self.board[new_pos] != 0:\n",
        "      return False\n",
        "\n",
        "    return True\n",
        "\n",
        "  def move_cell(self, cell):\n",
        "    curr_pos = cell.pos\n",
        "    enter_loop = True\n",
        "    while enter_loop or (not self.is_legal(temp_pos)):\n",
        "      enter_loop = False\n",
        "      temp_pos = curr_pos\n",
        "      choice = np.random.randint(0, 4)\n",
        "      if choice == 0:\n",
        "        temp_pos = (temp_pos[0] + 1, temp_pos[1])\n",
        "      elif choice == 1:\n",
        "        temp_pos = (temp_pos[0] - 1, temp_pos[1])\n",
        "      elif choice == 2:\n",
        "        temp_pos = (temp_pos[0], temp_pos[1] + 1)\n",
        "      else:\n",
        "        temp_pos = (temp_pos[0], temp_pos[1] - 1)\n",
        "\n",
        "    self.board[temp_pos] = cell\n",
        "    cell.update_pos(temp_pos)\n",
        "    self.board[curr_pos] = 0\n",
        "\n",
        "  def check_neighborhood(self, cell):\n",
        "    curr_pos = cell.pos\n",
        "    neighbors = []\n",
        "    for n in [1, -1]:\n",
        "      temp_pos1 = (curr_pos[0] + n, curr_pos[1])\n",
        "      temp_pos2 = (curr_pos[0], curr_pos[1] + n)\n",
        "      temp_pos3 = (curr_pos[0] + n, curr_pos[1] + n)\n",
        "      temp_pos4 = (curr_pos[0] - n, curr_pos[1] + n)\n",
        "      neighbors.extend([temp_pos1, temp_pos2, temp_pos3, temp_pos4])\n",
        "\n",
        "    neighbor_count = 0\n",
        "    for neighbor in neighbors:\n",
        "      if self.is_legal(neighbor, False) and self.board[neighbor] != 0 and self.board[neighbor].state == 1:\n",
        "        neighbor_count += 1\n",
        "    cell.update_state(neighbor_count)\n",
        "\n",
        "  def plot(self):\n",
        "    plt.figure()\n",
        "\n",
        "    state_board = np.zeros((self.board.shape[0], self.board.shape[1], 4))\n",
        "    cmap = {0: [0, 0, 0, 1], 1: [0.1, 0.1, 1, 1], 2: [1, 0.1, 0.1, 1], 3: [0.1, 1, 0.1, 1]}\n",
        "    for i in range(self.board.shape[0]):\n",
        "      for j in range(self.board.shape[1]):\n",
        "        tile = self.board[i, j]\n",
        "        if tile != 0:\n",
        "          state_board[i, j] = cmap[tile.state + 1]\n",
        "        else:\n",
        "          state_board[i,j] = cmap[tile]\n",
        "\n",
        "    labels = {0: \"empty\", 1: \"susceptible\", 2: \"infected\", 3: \"recovered\"}\n",
        "    patches =[mpatches.Patch(color=cmap[i], label=labels[i]) for i in cmap]\n",
        "    plt.imshow(state_board)\n",
        "    plt.legend(handles=patches, loc=4, borderaxespad=0)"
      ],
      "metadata": {
        "id": "AiGftUUmWma6",
        "cellView": "form"
      },
      "execution_count": 3,
      "outputs": []
    },
    {
      "cell_type": "code",
      "source": [
        "# @title\n",
        "class Cell:\n",
        "  def __init__(self, start_pos, start_infect=False):\n",
        "    self.pos = start_pos\n",
        "    if start_infect:\n",
        "      self.state = 1\n",
        "      self.infect_prob = 0\n",
        "      self.rem_infect_time = infect_len_dict[MODE][0]\n",
        "    else:\n",
        "      self.state = 0\n",
        "      self.infect_prob = 0\n",
        "      self.rem_infect_time = 0\n",
        "\n",
        "  def update_pos(self, new_pos):\n",
        "    self.pos = new_pos\n",
        "\n",
        "  def update_state(self, neighbors):\n",
        "    if self.state == 0:\n",
        "      if neighbors == 0:\n",
        "        self.infect_prob += 0.01 # idle environmental spread\n",
        "      elif neighbors == 1:\n",
        "        if self.infect_prob < infect_len_dict[MODE][1]:\n",
        "          self.infect_prob += infect_len_dict[MODE][1]\n",
        "        else:\n",
        "          dim_factor = np.log10(1.1)\n",
        "          self.infect_prob += dim_factor\n",
        "      else:\n",
        "        dim_factor = np.log10(1 + (neighbors * 0.2))\n",
        "        if self.infect_prob < infect_len_dict[MODE][1]:\n",
        "          self.infect_prob += infect_len_dict[MODE][1] + dim_factor\n",
        "        else:\n",
        "          self.infect_prob += dim_factor\n",
        "\n",
        "      if self.infect_prob < 1:\n",
        "        self.state = random.choices([0, 1], (1 - self.infect_prob, self.infect_prob))[0]\n",
        "      if self.state == 1 or self.infect_prob >= 1:\n",
        "        self.state = 1\n",
        "        self.infect_prob = 0\n",
        "        self.rem_infect_time = infect_len_dict[MODE][0]\n",
        "\n",
        "    elif self.state == 1:\n",
        "      self.rem_infect_time -= 1\n",
        "      if self.rem_infect_time == 0:\n",
        "        self.state = 2"
      ],
      "metadata": {
        "id": "mDUydsZXStNq",
        "cellView": "form"
      },
      "execution_count": 4,
      "outputs": []
    },
    {
      "cell_type": "code",
      "source": [
        "sim = Sim()\n",
        "for i in range(10):\n",
        "  sim.step()"
      ],
      "metadata": {
        "id": "e4kYU-v17tVh"
      },
      "execution_count": null,
      "outputs": []
    }
  ]
}